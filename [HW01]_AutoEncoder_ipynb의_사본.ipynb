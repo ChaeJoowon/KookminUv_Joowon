{
  "nbformat": 4,
  "nbformat_minor": 0,
  "metadata": {
    "colab": {
      "provenance": [],
      "gpuType": "T4",
      "include_colab_link": true
    },
    "kernelspec": {
      "name": "python3",
      "display_name": "Python 3"
    },
    "language_info": {
      "name": "python"
    },
    "accelerator": "GPU",
    "widgets": {
      "application/vnd.jupyter.widget-state+json": {
        "0c5463873d214aa9a6765ba2e74c829d": {
          "model_module": "@jupyter-widgets/controls",
          "model_name": "VBoxModel",
          "model_module_version": "1.5.0",
          "state": {
            "_dom_classes": [
              "widget-interact"
            ],
            "_model_module": "@jupyter-widgets/controls",
            "_model_module_version": "1.5.0",
            "_model_name": "VBoxModel",
            "_view_count": null,
            "_view_module": "@jupyter-widgets/controls",
            "_view_module_version": "1.5.0",
            "_view_name": "VBoxView",
            "box_style": "",
            "children": [
              "IPY_MODEL_acf48147d8ef4f128ea55e49f6b8ceed",
              "IPY_MODEL_8bff1ba43c0948f4a9e932a80af163d7"
            ],
            "layout": "IPY_MODEL_28a542cfd6b246cc9c8ba5f2fecee8bd"
          }
        },
        "acf48147d8ef4f128ea55e49f6b8ceed": {
          "model_module": "@jupyter-widgets/controls",
          "model_name": "IntSliderModel",
          "model_module_version": "1.5.0",
          "state": {
            "_dom_classes": [],
            "_model_module": "@jupyter-widgets/controls",
            "_model_module_version": "1.5.0",
            "_model_name": "IntSliderModel",
            "_view_count": null,
            "_view_module": "@jupyter-widgets/controls",
            "_view_module_version": "1.5.0",
            "_view_name": "IntSliderView",
            "continuous_update": false,
            "description": "idx",
            "description_tooltip": null,
            "disabled": false,
            "layout": "IPY_MODEL_4c731f5d47f647f5ae59676ccf5ef623",
            "max": 59999,
            "min": 0,
            "orientation": "horizontal",
            "readout": true,
            "readout_format": "d",
            "step": 1,
            "style": "IPY_MODEL_1a17bd4642da457eb7fe8bc395f1977b",
            "value": 20678
          }
        },
        "8bff1ba43c0948f4a9e932a80af163d7": {
          "model_module": "@jupyter-widgets/output",
          "model_name": "OutputModel",
          "model_module_version": "1.0.0",
          "state": {
            "_dom_classes": [],
            "_model_module": "@jupyter-widgets/output",
            "_model_module_version": "1.0.0",
            "_model_name": "OutputModel",
            "_view_count": null,
            "_view_module": "@jupyter-widgets/output",
            "_view_module_version": "1.0.0",
            "_view_name": "OutputView",
            "layout": "IPY_MODEL_0349aa79d8a34c3faf5f30135de14d81",
            "msg_id": "",
            "outputs": [
              {
                "output_type": "stream",
                "name": "stdout",
                "text": [
                  "GT label: 1\n"
                ]
              },
              {
                "output_type": "display_data",
                "data": {
                  "text/plain": "<Figure size 640x480 with 2 Axes>",
                  "image/png": "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\n"
                },
                "metadata": {}
              }
            ]
          }
        },
        "28a542cfd6b246cc9c8ba5f2fecee8bd": {
          "model_module": "@jupyter-widgets/base",
          "model_name": "LayoutModel",
          "model_module_version": "1.2.0",
          "state": {
            "_model_module": "@jupyter-widgets/base",
            "_model_module_version": "1.2.0",
            "_model_name": "LayoutModel",
            "_view_count": null,
            "_view_module": "@jupyter-widgets/base",
            "_view_module_version": "1.2.0",
            "_view_name": "LayoutView",
            "align_content": null,
            "align_items": null,
            "align_self": null,
            "border": null,
            "bottom": null,
            "display": null,
            "flex": null,
            "flex_flow": null,
            "grid_area": null,
            "grid_auto_columns": null,
            "grid_auto_flow": null,
            "grid_auto_rows": null,
            "grid_column": null,
            "grid_gap": null,
            "grid_row": null,
            "grid_template_areas": null,
            "grid_template_columns": null,
            "grid_template_rows": null,
            "height": null,
            "justify_content": null,
            "justify_items": null,
            "left": null,
            "margin": null,
            "max_height": null,
            "max_width": null,
            "min_height": null,
            "min_width": null,
            "object_fit": null,
            "object_position": null,
            "order": null,
            "overflow": null,
            "overflow_x": null,
            "overflow_y": null,
            "padding": null,
            "right": null,
            "top": null,
            "visibility": null,
            "width": null
          }
        },
        "4c731f5d47f647f5ae59676ccf5ef623": {
          "model_module": "@jupyter-widgets/base",
          "model_name": "LayoutModel",
          "model_module_version": "1.2.0",
          "state": {
            "_model_module": "@jupyter-widgets/base",
            "_model_module_version": "1.2.0",
            "_model_name": "LayoutModel",
            "_view_count": null,
            "_view_module": "@jupyter-widgets/base",
            "_view_module_version": "1.2.0",
            "_view_name": "LayoutView",
            "align_content": null,
            "align_items": null,
            "align_self": null,
            "border": null,
            "bottom": null,
            "display": null,
            "flex": null,
            "flex_flow": null,
            "grid_area": null,
            "grid_auto_columns": null,
            "grid_auto_flow": null,
            "grid_auto_rows": null,
            "grid_column": null,
            "grid_gap": null,
            "grid_row": null,
            "grid_template_areas": null,
            "grid_template_columns": null,
            "grid_template_rows": null,
            "height": null,
            "justify_content": null,
            "justify_items": null,
            "left": null,
            "margin": null,
            "max_height": null,
            "max_width": null,
            "min_height": null,
            "min_width": null,
            "object_fit": null,
            "object_position": null,
            "order": null,
            "overflow": null,
            "overflow_x": null,
            "overflow_y": null,
            "padding": null,
            "right": null,
            "top": null,
            "visibility": null,
            "width": null
          }
        },
        "1a17bd4642da457eb7fe8bc395f1977b": {
          "model_module": "@jupyter-widgets/controls",
          "model_name": "SliderStyleModel",
          "model_module_version": "1.5.0",
          "state": {
            "_model_module": "@jupyter-widgets/controls",
            "_model_module_version": "1.5.0",
            "_model_name": "SliderStyleModel",
            "_view_count": null,
            "_view_module": "@jupyter-widgets/base",
            "_view_module_version": "1.2.0",
            "_view_name": "StyleView",
            "description_width": "",
            "handle_color": null
          }
        },
        "0349aa79d8a34c3faf5f30135de14d81": {
          "model_module": "@jupyter-widgets/base",
          "model_name": "LayoutModel",
          "model_module_version": "1.2.0",
          "state": {
            "_model_module": "@jupyter-widgets/base",
            "_model_module_version": "1.2.0",
            "_model_name": "LayoutModel",
            "_view_count": null,
            "_view_module": "@jupyter-widgets/base",
            "_view_module_version": "1.2.0",
            "_view_name": "LayoutView",
            "align_content": null,
            "align_items": null,
            "align_self": null,
            "border": null,
            "bottom": null,
            "display": null,
            "flex": null,
            "flex_flow": null,
            "grid_area": null,
            "grid_auto_columns": null,
            "grid_auto_flow": null,
            "grid_auto_rows": null,
            "grid_column": null,
            "grid_gap": null,
            "grid_row": null,
            "grid_template_areas": null,
            "grid_template_columns": null,
            "grid_template_rows": null,
            "height": null,
            "justify_content": null,
            "justify_items": null,
            "left": null,
            "margin": null,
            "max_height": null,
            "max_width": null,
            "min_height": null,
            "min_width": null,
            "object_fit": null,
            "object_position": null,
            "order": null,
            "overflow": null,
            "overflow_x": null,
            "overflow_y": null,
            "padding": null,
            "right": null,
            "top": null,
            "visibility": null,
            "width": null
          }
        },
        "230d3598d63f4de5b14bedc4f1b53c3f": {
          "model_module": "@jupyter-widgets/controls",
          "model_name": "VBoxModel",
          "model_module_version": "1.5.0",
          "state": {
            "_dom_classes": [
              "widget-interact"
            ],
            "_model_module": "@jupyter-widgets/controls",
            "_model_module_version": "1.5.0",
            "_model_name": "VBoxModel",
            "_view_count": null,
            "_view_module": "@jupyter-widgets/controls",
            "_view_module_version": "1.5.0",
            "_view_name": "VBoxView",
            "box_style": "",
            "children": [
              "IPY_MODEL_337ab91a324c446881ec7bf3813ebf31",
              "IPY_MODEL_7ade1e5a016544dbb0fc699f260ec91b"
            ],
            "layout": "IPY_MODEL_1b0267e2c93d4b3c9bf2fa7ff0ceae37"
          }
        },
        "337ab91a324c446881ec7bf3813ebf31": {
          "model_module": "@jupyter-widgets/controls",
          "model_name": "IntSliderModel",
          "model_module_version": "1.5.0",
          "state": {
            "_dom_classes": [],
            "_model_module": "@jupyter-widgets/controls",
            "_model_module_version": "1.5.0",
            "_model_name": "IntSliderModel",
            "_view_count": null,
            "_view_module": "@jupyter-widgets/controls",
            "_view_module_version": "1.5.0",
            "_view_name": "IntSliderView",
            "continuous_update": false,
            "description": "idx",
            "description_tooltip": null,
            "disabled": false,
            "layout": "IPY_MODEL_c1ab3076f9974e1cb9627132965491c2",
            "max": 59999,
            "min": 0,
            "orientation": "horizontal",
            "readout": true,
            "readout_format": "d",
            "step": 1,
            "style": "IPY_MODEL_e0aa89c4643f4708aa83c30fedf01ee8",
            "value": 32419
          }
        },
        "7ade1e5a016544dbb0fc699f260ec91b": {
          "model_module": "@jupyter-widgets/output",
          "model_name": "OutputModel",
          "model_module_version": "1.0.0",
          "state": {
            "_dom_classes": [],
            "_model_module": "@jupyter-widgets/output",
            "_model_module_version": "1.0.0",
            "_model_name": "OutputModel",
            "_view_count": null,
            "_view_module": "@jupyter-widgets/output",
            "_view_module_version": "1.0.0",
            "_view_name": "OutputView",
            "layout": "IPY_MODEL_444bfc814b3b47a1924d6c1230c7673e",
            "msg_id": "",
            "outputs": [
              {
                "output_type": "stream",
                "name": "stdout",
                "text": [
                  "GT label: 4\n"
                ]
              },
              {
                "output_type": "display_data",
                "data": {
                  "text/plain": "<Figure size 640x480 with 2 Axes>",
                  "image/png": "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\n"
                },
                "metadata": {}
              }
            ]
          }
        },
        "1b0267e2c93d4b3c9bf2fa7ff0ceae37": {
          "model_module": "@jupyter-widgets/base",
          "model_name": "LayoutModel",
          "model_module_version": "1.2.0",
          "state": {
            "_model_module": "@jupyter-widgets/base",
            "_model_module_version": "1.2.0",
            "_model_name": "LayoutModel",
            "_view_count": null,
            "_view_module": "@jupyter-widgets/base",
            "_view_module_version": "1.2.0",
            "_view_name": "LayoutView",
            "align_content": null,
            "align_items": null,
            "align_self": null,
            "border": null,
            "bottom": null,
            "display": null,
            "flex": null,
            "flex_flow": null,
            "grid_area": null,
            "grid_auto_columns": null,
            "grid_auto_flow": null,
            "grid_auto_rows": null,
            "grid_column": null,
            "grid_gap": null,
            "grid_row": null,
            "grid_template_areas": null,
            "grid_template_columns": null,
            "grid_template_rows": null,
            "height": null,
            "justify_content": null,
            "justify_items": null,
            "left": null,
            "margin": null,
            "max_height": null,
            "max_width": null,
            "min_height": null,
            "min_width": null,
            "object_fit": null,
            "object_position": null,
            "order": null,
            "overflow": null,
            "overflow_x": null,
            "overflow_y": null,
            "padding": null,
            "right": null,
            "top": null,
            "visibility": null,
            "width": null
          }
        },
        "c1ab3076f9974e1cb9627132965491c2": {
          "model_module": "@jupyter-widgets/base",
          "model_name": "LayoutModel",
          "model_module_version": "1.2.0",
          "state": {
            "_model_module": "@jupyter-widgets/base",
            "_model_module_version": "1.2.0",
            "_model_name": "LayoutModel",
            "_view_count": null,
            "_view_module": "@jupyter-widgets/base",
            "_view_module_version": "1.2.0",
            "_view_name": "LayoutView",
            "align_content": null,
            "align_items": null,
            "align_self": null,
            "border": null,
            "bottom": null,
            "display": null,
            "flex": null,
            "flex_flow": null,
            "grid_area": null,
            "grid_auto_columns": null,
            "grid_auto_flow": null,
            "grid_auto_rows": null,
            "grid_column": null,
            "grid_gap": null,
            "grid_row": null,
            "grid_template_areas": null,
            "grid_template_columns": null,
            "grid_template_rows": null,
            "height": null,
            "justify_content": null,
            "justify_items": null,
            "left": null,
            "margin": null,
            "max_height": null,
            "max_width": null,
            "min_height": null,
            "min_width": null,
            "object_fit": null,
            "object_position": null,
            "order": null,
            "overflow": null,
            "overflow_x": null,
            "overflow_y": null,
            "padding": null,
            "right": null,
            "top": null,
            "visibility": null,
            "width": null
          }
        },
        "e0aa89c4643f4708aa83c30fedf01ee8": {
          "model_module": "@jupyter-widgets/controls",
          "model_name": "SliderStyleModel",
          "model_module_version": "1.5.0",
          "state": {
            "_model_module": "@jupyter-widgets/controls",
            "_model_module_version": "1.5.0",
            "_model_name": "SliderStyleModel",
            "_view_count": null,
            "_view_module": "@jupyter-widgets/base",
            "_view_module_version": "1.2.0",
            "_view_name": "StyleView",
            "description_width": "",
            "handle_color": null
          }
        },
        "444bfc814b3b47a1924d6c1230c7673e": {
          "model_module": "@jupyter-widgets/base",
          "model_name": "LayoutModel",
          "model_module_version": "1.2.0",
          "state": {
            "_model_module": "@jupyter-widgets/base",
            "_model_module_version": "1.2.0",
            "_model_name": "LayoutModel",
            "_view_count": null,
            "_view_module": "@jupyter-widgets/base",
            "_view_module_version": "1.2.0",
            "_view_name": "LayoutView",
            "align_content": null,
            "align_items": null,
            "align_self": null,
            "border": null,
            "bottom": null,
            "display": null,
            "flex": null,
            "flex_flow": null,
            "grid_area": null,
            "grid_auto_columns": null,
            "grid_auto_flow": null,
            "grid_auto_rows": null,
            "grid_column": null,
            "grid_gap": null,
            "grid_row": null,
            "grid_template_areas": null,
            "grid_template_columns": null,
            "grid_template_rows": null,
            "height": null,
            "justify_content": null,
            "justify_items": null,
            "left": null,
            "margin": null,
            "max_height": null,
            "max_width": null,
            "min_height": null,
            "min_width": null,
            "object_fit": null,
            "object_position": null,
            "order": null,
            "overflow": null,
            "overflow_x": null,
            "overflow_y": null,
            "padding": null,
            "right": null,
            "top": null,
            "visibility": null,
            "width": null
          }
        },
        "38a37c17f4cd4f84ab78db284b946190": {
          "model_module": "@jupyter-widgets/controls",
          "model_name": "HBoxModel",
          "model_module_version": "1.5.0",
          "state": {
            "_dom_classes": [],
            "_model_module": "@jupyter-widgets/controls",
            "_model_module_version": "1.5.0",
            "_model_name": "HBoxModel",
            "_view_count": null,
            "_view_module": "@jupyter-widgets/controls",
            "_view_module_version": "1.5.0",
            "_view_name": "HBoxView",
            "box_style": "",
            "children": [
              "IPY_MODEL_cfa994e28f6c4858ae32f0d149b59ee8",
              "IPY_MODEL_74481b76953c455fad74b3fd33fdf6eb"
            ],
            "layout": "IPY_MODEL_0ce4f777242748838e7db369fc1357f9"
          }
        },
        "cfa994e28f6c4858ae32f0d149b59ee8": {
          "model_module": "@jupyter-widgets/controls",
          "model_name": "FloatSliderModel",
          "model_module_version": "1.5.0",
          "state": {
            "_dom_classes": [],
            "_model_module": "@jupyter-widgets/controls",
            "_model_module_version": "1.5.0",
            "_model_name": "FloatSliderModel",
            "_view_count": null,
            "_view_module": "@jupyter-widgets/controls",
            "_view_module_version": "1.5.0",
            "_view_name": "FloatSliderView",
            "continuous_update": true,
            "description": "",
            "description_tooltip": null,
            "disabled": false,
            "layout": "IPY_MODEL_fbe5fabdc3e7442b9793ab599982b245",
            "max": 10,
            "min": -10,
            "orientation": "horizontal",
            "readout": true,
            "readout_format": ".2f",
            "step": 0.1,
            "style": "IPY_MODEL_d926a749a9694912877f16d5ef74f915",
            "value": -2.4
          }
        },
        "74481b76953c455fad74b3fd33fdf6eb": {
          "model_module": "@jupyter-widgets/controls",
          "model_name": "FloatSliderModel",
          "model_module_version": "1.5.0",
          "state": {
            "_dom_classes": [],
            "_model_module": "@jupyter-widgets/controls",
            "_model_module_version": "1.5.0",
            "_model_name": "FloatSliderModel",
            "_view_count": null,
            "_view_module": "@jupyter-widgets/controls",
            "_view_module_version": "1.5.0",
            "_view_name": "FloatSliderView",
            "continuous_update": true,
            "description": "",
            "description_tooltip": null,
            "disabled": false,
            "layout": "IPY_MODEL_2a252a6d083b4babaae9b14e65e937df",
            "max": 10,
            "min": -10,
            "orientation": "vertical",
            "readout": true,
            "readout_format": ".2f",
            "step": 0.1,
            "style": "IPY_MODEL_58b58f6fb8094f189059303b3cfd1d9e",
            "value": 0
          }
        },
        "0ce4f777242748838e7db369fc1357f9": {
          "model_module": "@jupyter-widgets/base",
          "model_name": "LayoutModel",
          "model_module_version": "1.2.0",
          "state": {
            "_model_module": "@jupyter-widgets/base",
            "_model_module_version": "1.2.0",
            "_model_name": "LayoutModel",
            "_view_count": null,
            "_view_module": "@jupyter-widgets/base",
            "_view_module_version": "1.2.0",
            "_view_name": "LayoutView",
            "align_content": null,
            "align_items": null,
            "align_self": null,
            "border": null,
            "bottom": null,
            "display": null,
            "flex": null,
            "flex_flow": null,
            "grid_area": null,
            "grid_auto_columns": null,
            "grid_auto_flow": null,
            "grid_auto_rows": null,
            "grid_column": null,
            "grid_gap": null,
            "grid_row": null,
            "grid_template_areas": null,
            "grid_template_columns": null,
            "grid_template_rows": null,
            "height": null,
            "justify_content": null,
            "justify_items": null,
            "left": null,
            "margin": null,
            "max_height": null,
            "max_width": null,
            "min_height": null,
            "min_width": null,
            "object_fit": null,
            "object_position": null,
            "order": null,
            "overflow": null,
            "overflow_x": null,
            "overflow_y": null,
            "padding": null,
            "right": null,
            "top": null,
            "visibility": null,
            "width": null
          }
        },
        "fbe5fabdc3e7442b9793ab599982b245": {
          "model_module": "@jupyter-widgets/base",
          "model_name": "LayoutModel",
          "model_module_version": "1.2.0",
          "state": {
            "_model_module": "@jupyter-widgets/base",
            "_model_module_version": "1.2.0",
            "_model_name": "LayoutModel",
            "_view_count": null,
            "_view_module": "@jupyter-widgets/base",
            "_view_module_version": "1.2.0",
            "_view_name": "LayoutView",
            "align_content": null,
            "align_items": null,
            "align_self": null,
            "border": null,
            "bottom": null,
            "display": null,
            "flex": null,
            "flex_flow": null,
            "grid_area": null,
            "grid_auto_columns": null,
            "grid_auto_flow": null,
            "grid_auto_rows": null,
            "grid_column": null,
            "grid_gap": null,
            "grid_row": null,
            "grid_template_areas": null,
            "grid_template_columns": null,
            "grid_template_rows": null,
            "height": null,
            "justify_content": null,
            "justify_items": null,
            "left": null,
            "margin": null,
            "max_height": null,
            "max_width": null,
            "min_height": null,
            "min_width": null,
            "object_fit": null,
            "object_position": null,
            "order": null,
            "overflow": null,
            "overflow_x": null,
            "overflow_y": null,
            "padding": null,
            "right": null,
            "top": null,
            "visibility": null,
            "width": null
          }
        },
        "d926a749a9694912877f16d5ef74f915": {
          "model_module": "@jupyter-widgets/controls",
          "model_name": "SliderStyleModel",
          "model_module_version": "1.5.0",
          "state": {
            "_model_module": "@jupyter-widgets/controls",
            "_model_module_version": "1.5.0",
            "_model_name": "SliderStyleModel",
            "_view_count": null,
            "_view_module": "@jupyter-widgets/base",
            "_view_module_version": "1.2.0",
            "_view_name": "StyleView",
            "description_width": "",
            "handle_color": null
          }
        },
        "2a252a6d083b4babaae9b14e65e937df": {
          "model_module": "@jupyter-widgets/base",
          "model_name": "LayoutModel",
          "model_module_version": "1.2.0",
          "state": {
            "_model_module": "@jupyter-widgets/base",
            "_model_module_version": "1.2.0",
            "_model_name": "LayoutModel",
            "_view_count": null,
            "_view_module": "@jupyter-widgets/base",
            "_view_module_version": "1.2.0",
            "_view_name": "LayoutView",
            "align_content": null,
            "align_items": null,
            "align_self": null,
            "border": null,
            "bottom": null,
            "display": null,
            "flex": null,
            "flex_flow": null,
            "grid_area": null,
            "grid_auto_columns": null,
            "grid_auto_flow": null,
            "grid_auto_rows": null,
            "grid_column": null,
            "grid_gap": null,
            "grid_row": null,
            "grid_template_areas": null,
            "grid_template_columns": null,
            "grid_template_rows": null,
            "height": null,
            "justify_content": null,
            "justify_items": null,
            "left": null,
            "margin": null,
            "max_height": null,
            "max_width": null,
            "min_height": null,
            "min_width": null,
            "object_fit": null,
            "object_position": null,
            "order": null,
            "overflow": null,
            "overflow_x": null,
            "overflow_y": null,
            "padding": null,
            "right": null,
            "top": null,
            "visibility": null,
            "width": null
          }
        },
        "58b58f6fb8094f189059303b3cfd1d9e": {
          "model_module": "@jupyter-widgets/controls",
          "model_name": "SliderStyleModel",
          "model_module_version": "1.5.0",
          "state": {
            "_model_module": "@jupyter-widgets/controls",
            "_model_module_version": "1.5.0",
            "_model_name": "SliderStyleModel",
            "_view_count": null,
            "_view_module": "@jupyter-widgets/base",
            "_view_module_version": "1.2.0",
            "_view_name": "StyleView",
            "description_width": "",
            "handle_color": null
          }
        },
        "179ca17aa8804974a66062ac618c12cd": {
          "model_module": "@jupyter-widgets/output",
          "model_name": "OutputModel",
          "model_module_version": "1.0.0",
          "state": {
            "_dom_classes": [],
            "_model_module": "@jupyter-widgets/output",
            "_model_module_version": "1.0.0",
            "_model_name": "OutputModel",
            "_view_count": null,
            "_view_module": "@jupyter-widgets/output",
            "_view_module_version": "1.0.0",
            "_view_name": "OutputView",
            "layout": "IPY_MODEL_41bfce46e6594968b252f776af733b09",
            "msg_id": "",
            "outputs": [
              {
                "output_type": "stream",
                "name": "stdout",
                "text": [
                  "[[-0.2  0. ]]\n"
                ]
              },
              {
                "output_type": "display_data",
                "data": {
                  "text/plain": "<Figure size 640x480 with 1 Axes>",
                  "image/png": "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\n"
                },
                "metadata": {}
              }
            ]
          }
        },
        "41bfce46e6594968b252f776af733b09": {
          "model_module": "@jupyter-widgets/base",
          "model_name": "LayoutModel",
          "model_module_version": "1.2.0",
          "state": {
            "_model_module": "@jupyter-widgets/base",
            "_model_module_version": "1.2.0",
            "_model_name": "LayoutModel",
            "_view_count": null,
            "_view_module": "@jupyter-widgets/base",
            "_view_module_version": "1.2.0",
            "_view_name": "LayoutView",
            "align_content": null,
            "align_items": null,
            "align_self": null,
            "border": null,
            "bottom": null,
            "display": null,
            "flex": null,
            "flex_flow": null,
            "grid_area": null,
            "grid_auto_columns": null,
            "grid_auto_flow": null,
            "grid_auto_rows": null,
            "grid_column": null,
            "grid_gap": null,
            "grid_row": null,
            "grid_template_areas": null,
            "grid_template_columns": null,
            "grid_template_rows": null,
            "height": null,
            "justify_content": null,
            "justify_items": null,
            "left": null,
            "margin": null,
            "max_height": null,
            "max_width": null,
            "min_height": null,
            "min_width": null,
            "object_fit": null,
            "object_position": null,
            "order": null,
            "overflow": null,
            "overflow_x": null,
            "overflow_y": null,
            "padding": null,
            "right": null,
            "top": null,
            "visibility": null,
            "width": null
          }
        }
      }
    }
  },
  "cells": [
    {
      "cell_type": "markdown",
      "metadata": {
        "id": "view-in-github",
        "colab_type": "text"
      },
      "source": [
        "<a href=\"https://colab.research.google.com/github/ChaeJoowon/KookminUv_Joowon/blob/master/%5BHW01%5D_AutoEncoder_ipynb%EC%9D%98_%EC%82%AC%EB%B3%B8.ipynb\" target=\"_parent\"><img src=\"https://colab.research.google.com/assets/colab-badge.svg\" alt=\"Open In Colab\"/></a>"
      ]
    },
    {
      "cell_type": "markdown",
      "source": [
        "# 📝 과제 제출 정보  \n",
        "\n",
        "| 📌 항목  | ✏️ 입력 |\n",
        "|---------|-------|\n",
        "| **학과** | `소프트웨어학과` |\n",
        "| **학번** | `20203149` |\n",
        "| **이름** | `채주원` |\n",
        "\n",
        "🚨 위 과제 제출 정보를 정확히 기입하지 않으면 감점됩니다."
      ],
      "metadata": {
        "id": "58GCUz8-o-Sa"
      }
    },
    {
      "cell_type": "markdown",
      "source": [
        "---\n",
        "\n",
        "## [HW01] AutoEncoder\n",
        "\n",
        "다음을 확인하는 리포트를 Colab 노트북을 이용해 작성한다.\n",
        "\n",
        "1. 정규분포를 통한 파라미터 초기화를 진행한 `Linear` layer를 Xavier 초기화, He 초기화 기법을 통해 초기화를 진행한 뒤, 결과에 대해 분석한다.\n",
        "\n",
        "2. Autoencoder의 encoder를 거쳐 나온 representation $z$를 groud truth(GT) label별로 다른색을 주어 $z$의 분포를 가시화한다.\n",
        "\n",
        "3. $z$의 분포를 보고 encoder가 label별로 discriminative한 representation을 만들어내는지 확인한다.\n",
        "\n",
        "4. 만일 discriminative하지 않다면, autoencoder가 discriminative한 representation $z$를 학습하도록 $z$의 차원을 바꿔가면서 실험해본다.\n",
        "\n",
        "5. $z$ 공간의 임의의 위치를 sampling한 후, 학습된 decoder의 입력으로 주는 방식으로 generative model을 구축한다. 의미있게 만들어진 이미지는 어떤 특징을 갖고 있는지 논의한다.\n",
        "\n",
        "---"
      ],
      "metadata": {
        "id": "-_aeV4lfqEzO"
      }
    },
    {
      "cell_type": "markdown",
      "source": [
        "# 오토인코더 (Pytorch)\n",
        "Pytorch에서 제공하는 고수준 API를 이용해, 오토인코더(autoencoder)를 구현한다.\n",
        "\n",
        "참고문헌\n",
        "* [Pytorch tutorial](https://tutorials.pytorch.kr/)\n",
        "* [Dive into Deep learning](https://d2l.ai/)\n",
        "\n",
        "\n",
        "주의사항\n",
        "* Colab에서 코드에 이상이 없음에도 불구하고 결과가 제대로 나오지 않을 경우, '런타임 다시 시작...'을 해보도록 한다.'\n",
        "\n",
        "\n",
        "## Deep Neural Network 기초\n",
        "다음 비디오를 보고 심층신경망(deep neural network) 기반 딥러닝 기법은 이해하도록 한다.\n",
        "* [신경망이란 무엇인가? | 1장.딥러닝에 관하여 (3Blue1Brown)](https://youtu.be/aircAruvnKk)\n",
        "* [경사 하강, 신경 네트워크가 학습하는 방법 | 심층 학습, 2장 (3Blue1Brown)](https://youtu.be/IHZwWFHWa-w)\n",
        "* [What is backpropagation really doing? | Deep learning, chapter 3 (3Blue1Brown)](https://youtu.be/Ilg3gGewQ5U)\n",
        "* [Backpropagation calculus | Deep learning, chapter 4 (3Blue1Brown)](https://youtu.be/tIeHLnjs5U8)"
      ],
      "metadata": {
        "id": "Lo3MtwRxqMYK"
      }
    },
    {
      "cell_type": "markdown",
      "source": [
        "## 필요한 모듈 임포트"
      ],
      "metadata": {
        "id": "M-L0_kH-qfcu"
      }
    },
    {
      "cell_type": "code",
      "source": [
        "import sys\n",
        "import time\n",
        "import numpy as np\n",
        "import matplotlib.pyplot as plt\n",
        "\n",
        "import torch                                      # 파이토치 임포트\n",
        "import torch.nn as nn                             # nn 모듈 임포트\n",
        "import torch.nn.functional as F\n",
        "\n",
        "import torchvision                                # torchvision 임포트\n",
        "import torchvision.utils as utils\n",
        "import torchvision.transforms as transforms       # numpy 이미지에서 tensor 이미지로 변경하기 위한 모듈\n",
        "import torchvision.datasets as datasets           # pytorch에 내장된 dataset을 불러오기 위한 모듈\n",
        "\n",
        "from tqdm import tqdm\n",
        "\n",
        "print(\"Python:\", sys.version)\n",
        "print(\"Numpy:\", np.__version__)\n",
        "\n",
        "print(\"Torch: \", torch.__version__)               # 파이토치 버전을 확인하도록 한다.\n",
        "print(\"Torchvision: \", torchvision.__version__)   # 토치비전 버전을 확인하도록 한다."
      ],
      "metadata": {
        "id": "4vEgz7DjpN46",
        "colab": {
          "base_uri": "https://localhost:8080/"
        },
        "outputId": "9df669b0-c668-4b44-bf8d-7c196bce0079"
      },
      "execution_count": null,
      "outputs": [
        {
          "output_type": "stream",
          "name": "stdout",
          "text": [
            "Python: 3.11.11 (main, Dec  4 2024, 08:55:07) [GCC 11.4.0]\n",
            "Numpy: 2.0.2\n",
            "Torch:  2.6.0+cu124\n",
            "Torchvision:  0.21.0+cu124\n"
          ]
        }
      ]
    },
    {
      "cell_type": "markdown",
      "source": [
        "## GPU 디바이스 선택 및 확인"
      ],
      "metadata": {
        "id": "XE70UTV4qnA_"
      }
    },
    {
      "cell_type": "code",
      "source": [
        "device = torch.device(\"cuda:0\" if torch.cuda.is_available() else \"cpu\")\n",
        "print(device)\n",
        "use_cuda = torch.cuda.is_available()\n",
        "print(use_cuda)\n",
        "if use_cuda:\n",
        "  print(torch.cuda.get_device_name(0))"
      ],
      "metadata": {
        "id": "ztjPwybHpJyU",
        "colab": {
          "base_uri": "https://localhost:8080/"
        },
        "outputId": "57d02507-55be-488b-c67d-5333d02d0536"
      },
      "execution_count": null,
      "outputs": [
        {
          "output_type": "stream",
          "name": "stdout",
          "text": [
            "cuda:0\n",
            "True\n",
            "Tesla T4\n"
          ]
        }
      ]
    },
    {
      "cell_type": "markdown",
      "source": [
        "## Hyperparameter 설정\n",
        "* batch size, learning rate, epoch을 설정"
      ],
      "metadata": {
        "id": "YDvabh1Rs0He"
      }
    },
    {
      "cell_type": "code",
      "source": [
        "batch_size    = 100\n",
        "learning_rate = 0.001\n",
        "num_epochs    = 10"
      ],
      "metadata": {
        "id": "GMzLcp10s174"
      },
      "execution_count": null,
      "outputs": []
    },
    {
      "cell_type": "markdown",
      "source": [
        "## MNIST 데이터셋 띄우기\n",
        "![MnistExamples.png](https://upload.wikimedia.org/wikipedia/commons/2/27/MnistExamples.png)\n",
        "* mnist 데이터셋은 숫자(digit) 손글씨 데이터셋이다.\n",
        "* 60,000개의 트레이닝 데이터와 10,000개의 테스트 데이터로 이루어져 있다.\n",
        "* LeCun이 자신의 연구에서 활용하고 배포한 데이터셋이 있으나 최근 보편적으로 많이 활용하기 때문에 텐서플로우나 파이토치 등에서 built-in 데이터셋의 형태로 제공해 주기도 한다.  \n",
        "\n",
        "### MNIST 이미지 데이터\n",
        "* MNIST 데이터셋은 여러 버젼이 있으나, 여기서는 이를 파이토치에 맞게 정리하여 torchvision.datasets에서 built-in으로 제공하는 데이터셋을 쓰도록 하겠다. ([link](https://pytorch.org/vision/main/generated/torchvision.datasets.MNIST.html))\n",
        "  + (PIL image, integer label)로 구성된 데이터를 제공.\n",
        "  + PIL image는 각 픽셀이 [0, 255] 사이값으로 구성된 H x W x C 크기의 이미지이다.\n",
        "* 뉴럴넷의 입력으로 넣기 위해 픽셀값이 0 근처에 있는 작은 실수값을 가지도록 다음과 같이 변환한다.\n",
        "  + ToTensor(): [0, 255] 사이 값을 [0.0, 1.0] 사이값으로 변화시킴과 동시에 C x H x W 형태로 변환시킨다."
      ],
      "metadata": {
        "id": "3RN1ek7jsKm9"
      }
    },
    {
      "cell_type": "code",
      "source": [
        "import torchvision.transforms as transforms\n",
        "from torchvision.datasets import MNIST\n",
        "\n",
        "# download path 정의\n",
        "download_root = './MNIST_DATASET'\n",
        "\n",
        "\n",
        "# PIL image (H x W x C) -> torch tensor (C x H x W) and\n",
        "# [0, 255] -> [0.0, 1.0]\n",
        "mnist_transform = transforms.Compose([\n",
        "    transforms.ToTensor(),\n",
        "])\n",
        "\n",
        "train_dataset = MNIST(download_root,\n",
        "                      transform=mnist_transform,\n",
        "                      train=True,\n",
        "                      download=True)\n",
        "\n",
        "test_dataset = MNIST(download_root,\n",
        "                     transform=mnist_transform,\n",
        "                     train=False,\n",
        "                     download=False)"
      ],
      "metadata": {
        "id": "taiGzFrpr8oF",
        "colab": {
          "base_uri": "https://localhost:8080/"
        },
        "outputId": "d8cf6c87-392f-4cbc-937d-fda4ec86094e"
      },
      "execution_count": null,
      "outputs": [
        {
          "output_type": "stream",
          "name": "stderr",
          "text": [
            "100%|██████████| 9.91M/9.91M [00:11<00:00, 887kB/s] \n",
            "100%|██████████| 28.9k/28.9k [00:00<00:00, 130kB/s]\n",
            "100%|██████████| 1.65M/1.65M [00:01<00:00, 1.24MB/s]\n",
            "100%|██████████| 4.54k/4.54k [00:00<00:00, 7.66MB/s]\n"
          ]
        }
      ]
    },
    {
      "cell_type": "markdown",
      "source": [
        "## 데이터셋 확인\n",
        "데이터셋을 로딩한 후 **데이터셋 구성**이 어떻게 되어 있는지 **반드시 확인**하는 습관을 가지도록 한다.\n",
        "\n",
        "torchvision.datasets.MNIST 데이터셋의 각 데이터는 (이미지, 레이블)로 구성된 튜플이다.\n",
        "\n",
        "다음은 MNIST 데이터셋에 있는 이미지와 레이블에 대한 각종 정보를 확인하는 코드이다.\n",
        "\n",
        "해당 코드를 통해 다음 사항을 확인할 수 있다.\n",
        "* train_dataset의 길이는 60,000이다.\n",
        "* test_dataset의 길이는 10,000이다.\n",
        "\n",
        "### MNIST 이미지 데이터\n",
        "* 각 이미지는 C X H x W 순서로 구성된 [1, 28, 28] 모양의 텐서로 로딩되었다.\n",
        "* 각 이미지 픽셀값은 ToTensor() 변환을 통해 [0.0, 1.0] 사이의 값으로 변환되었다.\n",
        "* 각 이미지 픽셀값은 `torch.float32` 타입이다.\n",
        "* 각 레이블 값의 타입은 파이썬 `int` 형이다.\n",
        "\n",
        "### MNIST 라벨 데이터\n",
        "* 각 레이블 값은 [0, 9] 사이의 파이썬 `int`형이다."
      ],
      "metadata": {
        "id": "O3AnXT_ZsWbA"
      }
    },
    {
      "cell_type": "code",
      "source": [
        "def print_MNIST_dataset_info(dataset):\n",
        "  print(\">>> dataset length: \", len(dataset))\n",
        "  print(\">>> type of each data: \", type(dataset[0]))\n",
        "  first_img, first_label = dataset[0]\n",
        "  print(\">>> image shape: \", first_img.shape)\n",
        "  print(\">>> image dtype: \", first_img.dtype)\n",
        "  print(\">>> image pixel min-value: \", first_img.min())\n",
        "  print(\">>> image pixel max-value: \", first_img.max())\n",
        "  print(\">>> label data type: \", type(first_label))\n",
        "\n",
        "print(\"train dataset\")\n",
        "print_MNIST_dataset_info(train_dataset)\n",
        "\n",
        "print(\"test dataset\")\n",
        "print_MNIST_dataset_info(test_dataset)"
      ],
      "metadata": {
        "id": "GhGg8sVVsQ3x",
        "colab": {
          "base_uri": "https://localhost:8080/"
        },
        "outputId": "fafc02c8-e1ab-44d1-dc83-c63f504f78d6"
      },
      "execution_count": null,
      "outputs": [
        {
          "output_type": "stream",
          "name": "stdout",
          "text": [
            "train dataset\n",
            ">>> dataset length:  60000\n",
            ">>> type of each data:  <class 'tuple'>\n",
            ">>> image shape:  torch.Size([1, 28, 28])\n",
            ">>> image dtype:  torch.float32\n",
            ">>> image pixel min-value:  tensor(0.)\n",
            ">>> image pixel max-value:  tensor(1.)\n",
            ">>> label data type:  <class 'int'>\n",
            "test dataset\n",
            ">>> dataset length:  10000\n",
            ">>> type of each data:  <class 'tuple'>\n",
            ">>> image shape:  torch.Size([1, 28, 28])\n",
            ">>> image dtype:  torch.float32\n",
            ">>> image pixel min-value:  tensor(0.)\n",
            ">>> image pixel max-value:  tensor(1.)\n",
            ">>> label data type:  <class 'int'>\n"
          ]
        }
      ]
    },
    {
      "cell_type": "markdown",
      "source": [
        "## MNIST DataLoader 정의\n",
        "\n",
        "[파이토치 데이터로더](https://pytorch.org/docs/stable/data.html#torch.utils.data.DataLoader)는 데이터셋을 배치단위로 묶어 순회(iteration)할 수 있도록 한다.\n",
        "\n",
        "아래 코드는 데이터셋에 대한 데이터로더를 만들고, 각 배치가 어떤 텐서 형태로 구성되어 있는지 확인하는 코드이다.\n",
        "* 데이터로더에서는 이미지들이 배치단위로 묶였기 때문에, B x C x H x W 모양(shape)의 텐서이며, 데이터타입(dtype)은 `torch.float32`가 되었음을 확인하자.\n",
        "* 데이터로더에서는 레이블들이 배치단위로 묶였기 때문에, B 모양(shape)의 텐서이며, 데이터타입(dtype)은 `torch.int64`가 되었음을 확인하자.\n",
        "\n",
        "train_dataset과 test_dataset은 동일 형태이므로, train_dataset의 데이터로더에 대해서만 확인하였다.\n"
      ],
      "metadata": {
        "id": "gzEPD6RYsp8D"
      }
    },
    {
      "cell_type": "code",
      "source": [
        "from torch.utils.data import DataLoader\n",
        "\n",
        "# dataloader 정의\n",
        "train_loader = DataLoader(dataset=train_dataset,\n",
        "                          batch_size=batch_size,\n",
        "                          shuffle=True)\n",
        "\n",
        "test_loader = DataLoader(dataset=test_dataset,\n",
        "                         batch_size=batch_size,\n",
        "                         shuffle=False)"
      ],
      "metadata": {
        "id": "7j-hTVWusrr5"
      },
      "execution_count": null,
      "outputs": []
    },
    {
      "cell_type": "code",
      "source": [
        "def print_MNIST_data_loader_info(data_loader):\n",
        "  print(\">>> dataset length: \", len(data_loader))\n",
        "  print(\">>> batch_size: \", data_loader.batch_size)\n",
        "  batch_images, batch_labels = next(iter(train_loader))\n",
        "  # batch size로 묶은 data 이미지의 형태 확인\n",
        "  print(\">>> batch_images type\", type(batch_images))\n",
        "  print(\">>> batch_images shape\", batch_images.shape)\n",
        "  print(\">>> batch_images dtype\", batch_images.dtype)\n",
        "\n",
        "print(\"train dataset\")\n",
        "print_MNIST_data_loader_info(train_loader)\n",
        "\n",
        "print(\"test dataset\")\n",
        "print_MNIST_data_loader_info(test_loader)"
      ],
      "metadata": {
        "id": "hyZbHkpvsuKq",
        "colab": {
          "base_uri": "https://localhost:8080/"
        },
        "outputId": "1ff8266b-94bd-45a2-c858-e26b1346e5a2"
      },
      "execution_count": null,
      "outputs": [
        {
          "output_type": "stream",
          "name": "stdout",
          "text": [
            "train dataset\n",
            ">>> dataset length:  600\n",
            ">>> batch_size:  100\n",
            ">>> batch_images type <class 'torch.Tensor'>\n",
            ">>> batch_images shape torch.Size([100, 1, 28, 28])\n",
            ">>> batch_images dtype torch.float32\n",
            "test dataset\n",
            ">>> dataset length:  100\n",
            ">>> batch_size:  100\n",
            ">>> batch_images type <class 'torch.Tensor'>\n",
            ">>> batch_images shape torch.Size([100, 1, 28, 28])\n",
            ">>> batch_images dtype torch.float32\n"
          ]
        }
      ]
    },
    {
      "cell_type": "markdown",
      "source": [
        "### 첫번째 배치의 첫번째 이미지와 레이블 확인\n",
        "첫 이미지와 해당 레이블을 찍어서 확인해 보자.\n",
        "\n",
        "C x H x W 이미지 정보가 보관된 파이토치 텐서를 H x W x C 형태의 PIL 이미지로 변환시키는 편리한 방법은 `to_pil_images` 함수를 사용하는 것이다. 이 예제에서는 픽셀값이 [0.0, 1.0] 값으로 normalize되어 있으므로, `to_pil_images` 함수를 호출하면 [0, 255] 값으로 변환된다."
      ],
      "metadata": {
        "id": "hcAJJJM8tF8D"
      }
    },
    {
      "cell_type": "code",
      "source": [
        "from torchvision.transforms.functional import to_pil_image\n",
        "import matplotlib.pyplot as plt\n",
        "\n",
        "# 첫번째 이미지 한장에 대한 확인\n",
        "batch_images, batch_labels = next(iter(train_loader))\n",
        "\n",
        "img = batch_images[0]\n",
        "\n",
        "plt.figure()\n",
        "plt.imshow(to_pil_image(img), cmap='gray')"
      ],
      "metadata": {
        "colab": {
          "base_uri": "https://localhost:8080/",
          "height": 448
        },
        "id": "xvz906IKtD5Q",
        "outputId": "e72a0a5d-6dc6-4046-8ae7-e92d1e745c19"
      },
      "execution_count": null,
      "outputs": [
        {
          "output_type": "execute_result",
          "data": {
            "text/plain": [
              "<matplotlib.image.AxesImage at 0x7ca7b207d790>"
            ]
          },
          "metadata": {},
          "execution_count": 14
        },
        {
          "output_type": "display_data",
          "data": {
            "text/plain": [
              "<Figure size 640x480 with 1 Axes>"
            ],
            "image/png": "[encoded data removed]"
          },
          "metadata": {}
        }
      ]
    },
    {
      "cell_type": "markdown",
      "source": [
        "## 네트워크 모델 설계\n",
        "* 인코더 모델: `torch.nn.Sequential` 모듈로 모델로 설계\n",
        "  + InputLayer로 (1,28,28) 영상을 받고, Linear 레이어를 여럿 통과시킨 후, 출력으로 n_dim차원 벡터가 나오도록 함.\n",
        "* 디코더 모델: `torch.nn.Sequential` 모듈로 모델로 설계\n",
        "  + InputLayer에서 n_dim차원 벡터를 받고, Linear 레이어를 여럿 통과시킨 후, 출력으로 (1,28,28) 영상이 나오도록 함.\n",
        "* 오토인코더 모델: 인코더, 디코더를 결합하여 설계"
      ],
      "metadata": {
        "id": "ip5zUyQqtVCb"
      }
    },
    {
      "cell_type": "markdown",
      "source": [
        "잠재 벡터(latent vector) $z$의 크기 설정\n",
        "여기서는 n_dim을 우선 2로 설정한다.\n",
        "* 즉, n_dim=2"
      ],
      "metadata": {
        "id": "eJgoKLxWtgJ_"
      }
    },
    {
      "cell_type": "code",
      "source": [
        "n_dim = 2"
      ],
      "metadata": {
        "id": "fOy6U0rXtSGo"
      },
      "execution_count": null,
      "outputs": []
    },
    {
      "cell_type": "markdown",
      "source": [
        "인코더 모델 정의\n",
        "* (1, 28, 28) 영상을 입력으로 받도록 입력 레이어 정의\n",
        "* Flatten으로 입력 텐서를 784-vector로 벡터라이즈\n",
        "* Fully connected layer로 784 > 256 > 128 > 32 > n_dim 로 차원 축소"
      ],
      "metadata": {
        "id": "K0LXduMntl8x"
      }
    },
    {
      "cell_type": "code",
      "source": [
        "enc = nn.Sequential(\n",
        "  nn.Flatten(),    # 784 = 1 x 28 x 28\n",
        "  nn.Linear(784, 256),\n",
        "  nn.ReLU(),\n",
        "  nn.Linear(256, 128),\n",
        "  nn.ReLU(),\n",
        "  nn.Linear(128, 32),\n",
        "  nn.ReLU(),\n",
        "  nn.Linear(32, n_dim)\n",
        ")\n",
        "\n",
        "enc = enc.to(device)\n",
        "\n",
        "print(enc)"
      ],
      "metadata": {
        "id": "3KRjcpJmtrR-",
        "colab": {
          "base_uri": "https://localhost:8080/"
        },
        "outputId": "18236411-bf8e-4a8a-8cad-3558080442c0"
      },
      "execution_count": null,
      "outputs": [
        {
          "output_type": "stream",
          "name": "stdout",
          "text": [
            "Sequential(\n",
            "  (0): Flatten(start_dim=1, end_dim=-1)\n",
            "  (1): Linear(in_features=784, out_features=256, bias=True)\n",
            "  (2): ReLU()\n",
            "  (3): Linear(in_features=256, out_features=128, bias=True)\n",
            "  (4): ReLU()\n",
            "  (5): Linear(in_features=128, out_features=32, bias=True)\n",
            "  (6): ReLU()\n",
            "  (7): Linear(in_features=32, out_features=2, bias=True)\n",
            ")\n"
          ]
        }
      ]
    },
    {
      "cell_type": "markdown",
      "source": [
        "디코더 모델 정의\n",
        "* Fully connected layey로 n_dim > 32 > 128 > 256 > 784로 차원 확대\n",
        "* 784-vector를 Reshape을 통해 (28, 28)의 텐서로 변환"
      ],
      "metadata": {
        "id": "BclAsvX2tvgQ"
      }
    },
    {
      "cell_type": "code",
      "source": [
        "dec = nn.Sequential(\n",
        "    nn.Linear(n_dim, 32),\n",
        "    nn.ReLU(),\n",
        "    nn.Linear(32, 256),\n",
        "    nn.ReLU(),\n",
        "    nn.Linear(256, 784),\n",
        "    nn.Unflatten(1, torch.Size([1, 28, 28])),\n",
        "    nn.Sigmoid(),\n",
        ")\n",
        "\n",
        "dec = dec.to(device)\n",
        "\n",
        "print(dec)"
      ],
      "metadata": {
        "id": "_PZuEhdDtr--",
        "colab": {
          "base_uri": "https://localhost:8080/"
        },
        "outputId": "72247f3d-6fab-4d78-9b4b-4ac47bca395d"
      },
      "execution_count": null,
      "outputs": [
        {
          "output_type": "stream",
          "name": "stdout",
          "text": [
            "Sequential(\n",
            "  (0): Linear(in_features=2, out_features=32, bias=True)\n",
            "  (1): ReLU()\n",
            "  (2): Linear(in_features=32, out_features=256, bias=True)\n",
            "  (3): ReLU()\n",
            "  (4): Linear(in_features=256, out_features=784, bias=True)\n",
            "  (5): Unflatten(dim=1, unflattened_size=torch.Size([1, 28, 28]))\n",
            "  (6): Sigmoid()\n",
            ")\n"
          ]
        }
      ]
    },
    {
      "cell_type": "markdown",
      "source": [
        "AutoEncoder 모델 정의\n",
        "* (1, 28, 28) 영상을 입력으로 받도록 입력 레이어 정의\n",
        "* 입력 레이어 > 인코더 > 디코더로 구성\n",
        "* (1, 28, 28) 영상이 출력되로록 아웃풋 레이어 정의"
      ],
      "metadata": {
        "id": "4aGWhQcktufC"
      }
    },
    {
      "cell_type": "code",
      "source": [
        "ae = nn.Sequential(\n",
        "    enc,\n",
        "    dec,\n",
        ")\n",
        "\n",
        "ae = ae.to(device)\n",
        "\n",
        "print(ae)"
      ],
      "metadata": {
        "id": "lgXgRqn1t-UP",
        "colab": {
          "base_uri": "https://localhost:8080/"
        },
        "outputId": "73c15399-030a-484b-e376-5d1bab8ae787"
      },
      "execution_count": null,
      "outputs": [
        {
          "output_type": "stream",
          "name": "stdout",
          "text": [
            "Sequential(\n",
            "  (0): Sequential(\n",
            "    (0): Flatten(start_dim=1, end_dim=-1)\n",
            "    (1): Linear(in_features=784, out_features=256, bias=True)\n",
            "    (2): ReLU()\n",
            "    (3): Linear(in_features=256, out_features=128, bias=True)\n",
            "    (4): ReLU()\n",
            "    (5): Linear(in_features=128, out_features=32, bias=True)\n",
            "    (6): ReLU()\n",
            "    (7): Linear(in_features=32, out_features=2, bias=True)\n",
            "  )\n",
            "  (1): Sequential(\n",
            "    (0): Linear(in_features=2, out_features=32, bias=True)\n",
            "    (1): ReLU()\n",
            "    (2): Linear(in_features=32, out_features=256, bias=True)\n",
            "    (3): ReLU()\n",
            "    (4): Linear(in_features=256, out_features=784, bias=True)\n",
            "    (5): Unflatten(dim=1, unflattened_size=torch.Size([1, 28, 28]))\n",
            "    (6): Sigmoid()\n",
            "  )\n",
            ")\n"
          ]
        }
      ]
    },
    {
      "cell_type": "markdown",
      "source": [
        "## 파라미터 초기화\n",
        "\n",
        "## TODO\n",
        "\n",
        "1. encoder, decoder 부분을 수정하여 `Xavier` 또는 `He Initialization`을 적용하여 파라미터를 초기화한 후 학습을 진행해본다. [Xavier, He initialization 설명](https://reniew.github.io/13/)\n",
        "  * 힌트: `nn.init()`모듈을 살펴본다.\n",
        "\n",
        "2. 결과에 대한 분석을 작성한다."
      ],
      "metadata": {
        "id": "igyZye2wuJmU"
      }
    },
    {
      "cell_type": "code",
      "source": [
        "## TODO\n"
      ],
      "metadata": {
        "id": "Az3JbDhGt_6F"
      },
      "execution_count": null,
      "outputs": []
    },
    {
      "cell_type": "markdown",
      "source": [
        "## 네트워크 모델 구조 확인\n",
        "\n",
        "딥러닝 모델의 입출력 구조를 다음과 같이 확인한다.  여기서 중요한 사항은 다음을 확인하는 것이다.\n",
        "\n",
        "1. 레이어의 연결구조,  \n",
        "2. 레이어별 입출력 텐서의 차원,\n",
        "3. 학습할 파라메터 개수"
      ],
      "metadata": {
        "id": "EsSWuzRXuYni"
      }
    },
    {
      "cell_type": "code",
      "source": [
        "!pip install torchsummary"
      ],
      "metadata": {
        "id": "q9k0xmY_uL5V",
        "colab": {
          "base_uri": "https://localhost:8080/"
        },
        "outputId": "2a0d4ccd-9523-4d92-9360-49de5fa46010"
      },
      "execution_count": null,
      "outputs": [
        {
          "output_type": "stream",
          "name": "stdout",
          "text": [
            "Requirement already satisfied: torchsummary in /usr/local/lib/python3.11/dist-packages (1.5.1)\n"
          ]
        }
      ]
    },
    {
      "cell_type": "code",
      "source": [
        "from torchsummary import summary\n",
        "\n",
        "summary(ae, (1,28,28))"
      ],
      "metadata": {
        "id": "h9kHYqkauabM",
        "colab": {
          "base_uri": "https://localhost:8080/"
        },
        "outputId": "2fb47f39-a7cc-4071-f881-3e79cc3515af"
      },
      "execution_count": null,
      "outputs": [
        {
          "output_type": "stream",
          "name": "stdout",
          "text": [
            "----------------------------------------------------------------\n",
            "        Layer (type)               Output Shape         Param #\n",
            "================================================================\n",
            "           Flatten-1                  [-1, 784]               0\n",
            "            Linear-2                  [-1, 256]         200,960\n",
            "              ReLU-3                  [-1, 256]               0\n",
            "            Linear-4                  [-1, 128]          32,896\n",
            "              ReLU-5                  [-1, 128]               0\n",
            "            Linear-6                   [-1, 32]           4,128\n",
            "              ReLU-7                   [-1, 32]               0\n",
            "            Linear-8                    [-1, 2]              66\n",
            "            Linear-9                   [-1, 32]              96\n",
            "             ReLU-10                   [-1, 32]               0\n",
            "           Linear-11                  [-1, 256]           8,448\n",
            "             ReLU-12                  [-1, 256]               0\n",
            "           Linear-13                  [-1, 784]         201,488\n",
            "        Unflatten-14            [-1, 1, 28, 28]               0\n",
            "          Sigmoid-15            [-1, 1, 28, 28]               0\n",
            "================================================================\n",
            "Total params: 448,082\n",
            "Trainable params: 448,082\n",
            "Non-trainable params: 0\n",
            "----------------------------------------------------------------\n",
            "Input size (MB): 0.00\n",
            "Forward/backward pass size (MB): 0.03\n",
            "Params size (MB): 1.71\n",
            "Estimated Total Size (MB): 1.75\n",
            "----------------------------------------------------------------\n"
          ]
        }
      ]
    },
    {
      "cell_type": "markdown",
      "source": [
        "## 훈련 전, 네트워크 모델을 함수로서 활용\n",
        "* AutoEncoder ae를 모델로 구성했기 때문에, 지금부터 함수로서 활용 가능\n",
        "  + 단, ae 함수는 batch 단위로 수행됨을 명심할 것.  \n",
        "    - 단순히, (1, 28, 28) -> ae -> (1, 28, 28)로 동작하지 않고,\n",
        "    - batch 단위로 (?, 1, 28, 28) -> ae -> (?, 1, 28, 28)로 병렬처리됨.\n",
        "* 지금은 훈련 전 네트웍이기 때문에 함수로서는 작동하지만 노이즈 출력만 나올 뿐, 정상적인 출력이 나오는 함수로 동작하지 않음."
      ],
      "metadata": {
        "id": "wYeXbPUsuhCc"
      }
    },
    {
      "cell_type": "code",
      "source": [
        "import matplotlib.pyplot as plt\n",
        "from torchvision.transforms.functional import to_pil_image\n",
        "import ipywidgets as widgets\n",
        "\n",
        "def train_dataset_imshow(idx):\n",
        "  (image, label) = train_dataset[idx]\n",
        "  print('GT label:', label)\n",
        "\n",
        "  X      = torch.unsqueeze(image, 0).to(device) # batch size = 1\n",
        "  Y_pred = ae(X)\n",
        "\n",
        "  input_img  = to_pil_image(X.squeeze())\n",
        "  output_img = to_pil_image(Y_pred.squeeze())\n",
        "\n",
        "  plt.subplot(121)\n",
        "  plt.imshow(input_img, cmap='gray')\n",
        "\n",
        "  plt.subplot(122)\n",
        "  plt.imshow(output_img, cmap='gray')\n",
        "\n",
        "  plt.show()\n",
        "\n",
        "widgets.interact(train_dataset_imshow, idx=widgets.IntSlider(min=0, max=len(train_dataset)-1, continuous_update=False))"
      ],
      "metadata": {
        "id": "xSUgPltVudrc",
        "colab": {
          "base_uri": "https://localhost:8080/",
          "height": 424,
          "referenced_widgets": [
            "0c5463873d214aa9a6765ba2e74c829d",
            "acf48147d8ef4f128ea55e49f6b8ceed",
            "8bff1ba43c0948f4a9e932a80af163d7",
            "28a542cfd6b246cc9c8ba5f2fecee8bd",
            "4c731f5d47f647f5ae59676ccf5ef623",
            "1a17bd4642da457eb7fe8bc395f1977b",
            "0349aa79d8a34c3faf5f30135de14d81"
          ]
        },
        "outputId": "c18d6cd9-549c-40d1-a743-caa3bbcbfc9e"
      },
      "execution_count": null,
      "outputs": [
        {
          "output_type": "display_data",
          "data": {
            "text/plain": [
              "interactive(children=(IntSlider(value=0, continuous_update=False, description='idx', max=59999), Output()), _d…"
            ],
            "application/vnd.jupyter.widget-view+json": {
              "version_major": 2,
              "version_minor": 0,
              "model_id": "0c5463873d214aa9a6765ba2e74c829d"
            }
          },
          "metadata": {}
        },
        {
          "output_type": "execute_result",
          "data": {
            "text/plain": [
              "<function __main__.train_dataset_imshow(idx)>"
            ],
            "text/html": [
              "<div style=\"max-width:800px; border: 1px solid var(--colab-border-color);\"><style>\n",
              "      pre.function-repr-contents {\n",
              "        overflow-x: auto;\n",
              "        padding: 8px 12px;\n",
              "        max-height: 500px;\n",
              "      }\n",
              "\n",
              "      pre.function-repr-contents.function-repr-contents-collapsed {\n",
              "        cursor: pointer;\n",
              "        max-height: 100px;\n",
              "      }\n",
              "    </style>\n",
              "    <pre style=\"white-space: initial; background:\n",
              "         var(--colab-secondary-surface-color); padding: 8px 12px;\n",
              "         border-bottom: 1px solid var(--colab-border-color);\"><b>train_dataset_imshow</b><br/>def train_dataset_imshow(idx)</pre><pre class=\"function-repr-contents function-repr-contents-collapsed\" style=\"\"><a class=\"filepath\" style=\"display:none\" href=\"#\">/content/&lt;ipython-input-21-7b971d9c25b5&gt;</a>&lt;no docstring&gt;</pre></div>"
            ]
          },
          "metadata": {},
          "execution_count": 21
        }
      ]
    },
    {
      "cell_type": "markdown",
      "source": [
        "## Optimizer, loss 함수 설정\n",
        "학습과정에서 사용할 optimizer, loss 함수를 설정한다.\n",
        "* [optim module](https://pytorch.org/docs/stable/optim.html) 참고<br/>\n",
        "optimizier 이론적 학습: [www](https://brunch.co.kr/@chris-song/50)<br/>\n",
        "optimizer: torch.optim 모듈 내의  함수들을 다음의 예약어로 쓸 수 있다.\n",
        "  + sgd = SGD\n",
        "  + rmsprop = RMSprop\n",
        "  + adagrad = Adagrad\n",
        "  + adadelta = Adadelta\n",
        "  + adam = Adam\n",
        "  + adamax = Adamax\n",
        "* [nn module](https://pytorch.org/docs/stable/nn.html) 참고 <br/>\n",
        "loss:  torch.nn 모듈 내의  함수들을 다음의 예약어로 쓸 수 있다.\n",
        "  + mse = MSELoss = mean_squared_error\n",
        "  + mae = L1Loss = mean_absolute_error\n",
        "  + kld = KLDivLoss = kullback_leibler_divergence\n",
        "  + crossentropy = CrossEntropyLoss"
      ],
      "metadata": {
        "id": "DkKs2Ayau8Gt"
      }
    },
    {
      "cell_type": "code",
      "source": [
        "# optimizer,loss 설정\n",
        "optimizer = torch.optim.Adam(ae.parameters(), lr=learning_rate)\n",
        "criterion = nn.MSELoss()"
      ],
      "metadata": {
        "id": "LEydWouUvBgf"
      },
      "execution_count": null,
      "outputs": []
    },
    {
      "cell_type": "markdown",
      "source": [
        "## 딥러닝 모델 학습\n",
        "\n",
        "pytorch에서는 tensorflow기반 코드와는 달리 `fit()` 함수를 직접 구현해야한다."
      ],
      "metadata": {
        "id": "LBz2QNDhvDEz"
      }
    },
    {
      "cell_type": "code",
      "source": [
        "def fit(data_loader, epochs):\n",
        "  for epoch in range(epochs):\n",
        "    now = time.time()\n",
        "    avg_loss = 0\n",
        "    total_batch = len(data_loader)\n",
        "\n",
        "    for i, (batch_images, batch_labels) in enumerate(data_loader):\n",
        "\n",
        "      X = batch_images.to(device)  # [-1, 1, 28, 28]\n",
        "\n",
        "      # forward 단계\n",
        "      # 1. input data를 모델에 통과시킵니다.\n",
        "      # 2. loss를 계산합니다.\n",
        "      Y_prediction = ae(X)\n",
        "      loss = criterion(Y_prediction, X)\n",
        "\n",
        "      # bacward 단계\n",
        "      # 1. backprop 단계를 실행하기 전에 변화도를 0으로 만듭니다.\n",
        "      # 2. 모델의 매개변수에 대한 손실의 변화도를 계산합니다.\n",
        "      # 3. step 함수를 호출하면 매개변수가 갱신됩니다.\n",
        "      optimizer.zero_grad()\n",
        "      loss.backward()\n",
        "      optimizer.step()\n",
        "\n",
        "      avg_loss += loss / total_batch\n",
        "\n",
        "    print(\"[Epoch: {:>4}] \\t loss = {:.4f} \\t time = {:.4f}\"\n",
        "          .format(epoch + 1, avg_loss.data, time.time()-now))\n",
        "\n",
        "  print(\"Learning Finished!\")"
      ],
      "metadata": {
        "id": "cul9YvbMvB6r"
      },
      "execution_count": null,
      "outputs": []
    },
    {
      "cell_type": "markdown",
      "source": [
        "fit 함수 실행"
      ],
      "metadata": {
        "id": "oqU3m5idvJjv"
      }
    },
    {
      "cell_type": "code",
      "source": [
        "fit(train_loader, num_epochs)"
      ],
      "metadata": {
        "id": "MZuhwTVhvHRL",
        "colab": {
          "base_uri": "https://localhost:8080/"
        },
        "outputId": "f1be5843-6006-4f5e-879d-b33b6feb3f9d"
      },
      "execution_count": null,
      "outputs": [
        {
          "output_type": "stream",
          "name": "stdout",
          "text": [
            "[Epoch:    1] \t loss = 0.0608 \t time = 7.3083\n",
            "[Epoch:    2] \t loss = 0.0490 \t time = 7.1090\n",
            "[Epoch:    3] \t loss = 0.0451 \t time = 6.5367\n",
            "[Epoch:    4] \t loss = 0.0430 \t time = 7.0954\n",
            "[Epoch:    5] \t loss = 0.0419 \t time = 6.5284\n",
            "[Epoch:    6] \t loss = 0.0409 \t time = 7.2646\n",
            "[Epoch:    7] \t loss = 0.0401 \t time = 6.8619\n",
            "[Epoch:    8] \t loss = 0.0398 \t time = 7.3368\n",
            "[Epoch:    9] \t loss = 0.0393 \t time = 7.0538\n",
            "[Epoch:   10] \t loss = 0.0390 \t time = 6.4612\n",
            "Learning Finished!\n"
          ]
        }
      ]
    },
    {
      "cell_type": "markdown",
      "source": [
        "### 트레이닝셋을 이용해 학습 후 결과 시각화\n",
        "학습이 끝난 autoencoder에 대해 train_dataset에 대한 결과 시각화"
      ],
      "metadata": {
        "id": "Tld9oewhvSDj"
      }
    },
    {
      "cell_type": "code",
      "source": [
        "import matplotlib.pyplot as plt\n",
        "from torchvision.transforms.functional import to_pil_image\n",
        "import ipywidgets as widgets\n",
        "\n",
        "def train_dataset_imshow(idx):\n",
        "  (image, label) = train_dataset[idx]\n",
        "  print('GT label:', label)\n",
        "\n",
        "  X = torch.unsqueeze(image, 0).to(device) # batch size = 1\n",
        "  Y_pred = ae(X)\n",
        "\n",
        "  input_img  = to_pil_image(X.squeeze())\n",
        "  output_img = to_pil_image(Y_pred.squeeze())\n",
        "\n",
        "  plt.subplot(121)\n",
        "  plt.imshow(input_img, cmap='gray')\n",
        "\n",
        "  plt.subplot(122)\n",
        "  plt.imshow(output_img, cmap='gray')\n",
        "\n",
        "  plt.show()\n",
        "\n",
        "widgets.interact(train_dataset_imshow, idx=widgets.IntSlider(min=0, max=len(train_dataset)-1, continuous_update=False))"
      ],
      "metadata": {
        "id": "p4Cr1m1rvL5J",
        "colab": {
          "base_uri": "https://localhost:8080/",
          "height": 424,
          "referenced_widgets": [
            "230d3598d63f4de5b14bedc4f1b53c3f",
            "337ab91a324c446881ec7bf3813ebf31",
            "7ade1e5a016544dbb0fc699f260ec91b",
            "1b0267e2c93d4b3c9bf2fa7ff0ceae37",
            "c1ab3076f9974e1cb9627132965491c2",
            "e0aa89c4643f4708aa83c30fedf01ee8",
            "444bfc814b3b47a1924d6c1230c7673e"
          ]
        },
        "outputId": "4f8daf0f-ba16-4eb8-86fa-a5bb52c295d4"
      },
      "execution_count": null,
      "outputs": [
        {
          "output_type": "display_data",
          "data": {
            "text/plain": [
              "interactive(children=(IntSlider(value=0, continuous_update=False, description='idx', max=59999), Output()), _d…"
            ],
            "application/vnd.jupyter.widget-view+json": {
              "version_major": 2,
              "version_minor": 0,
              "model_id": "230d3598d63f4de5b14bedc4f1b53c3f"
            }
          },
          "metadata": {}
        },
        {
          "output_type": "execute_result",
          "data": {
            "text/plain": [
              "<function __main__.train_dataset_imshow(idx)>"
            ],
            "text/html": [
              "<div style=\"max-width:800px; border: 1px solid var(--colab-border-color);\"><style>\n",
              "      pre.function-repr-contents {\n",
              "        overflow-x: auto;\n",
              "        padding: 8px 12px;\n",
              "        max-height: 500px;\n",
              "      }\n",
              "\n",
              "      pre.function-repr-contents.function-repr-contents-collapsed {\n",
              "        cursor: pointer;\n",
              "        max-height: 100px;\n",
              "      }\n",
              "    </style>\n",
              "    <pre style=\"white-space: initial; background:\n",
              "         var(--colab-secondary-surface-color); padding: 8px 12px;\n",
              "         border-bottom: 1px solid var(--colab-border-color);\"><b>train_dataset_imshow</b><br/>def train_dataset_imshow(idx)</pre><pre class=\"function-repr-contents function-repr-contents-collapsed\" style=\"\"><a class=\"filepath\" style=\"display:none\" href=\"#\">/content/&lt;ipython-input-25-f73b80f09998&gt;</a>&lt;no docstring&gt;</pre></div>"
            ]
          },
          "metadata": {},
          "execution_count": 25
        }
      ]
    },
    {
      "cell_type": "markdown",
      "source": [
        "# 인코더 / 디코더 모델을 각각 따로 함수로서 활용하기\n",
        "오토인코더 네트웍 전체가 아닌 `enc()` 부분과 `dec()` 부분을 각각 수행할 수 있다.\n",
        "* 특정 예제에 대한 인코딩 결과와 디코딩 결과를 따로 확인한다."
      ],
      "metadata": {
        "id": "XSmbapAxvlGY"
      }
    },
    {
      "cell_type": "code",
      "source": [
        "import matplotlib.pyplot as plt\n",
        "from torchvision.transforms.functional import to_pil_image\n",
        "\n",
        "idx = 128\n",
        "\n",
        "(image, label) = test_dataset[idx]\n",
        "print('GT label:', label)\n",
        "\n",
        "### 아래에서 ae()가 사용되지 않고, enc()와 dec()가 사용되었음에 주목\n",
        "X      = torch.unsqueeze(image, 0).to(device) # batch size = 1\n",
        "z      = enc(X)   # enc()만 사용해 입력 영상을 인코딩해 latent code z를 구함\n",
        "Y_pred = dec(z)   # dec()만 사용해 latent code z를 디코딩해 출력 영상 Y_pred를 구함\n",
        "\n",
        "print(\"latent code z: \", z)\n",
        "\n",
        "input_img  = to_pil_image(X.squeeze())\n",
        "output_img = to_pil_image(Y_pred.squeeze())\n",
        "\n",
        "plt.subplot(121)\n",
        "plt.imshow(input_img, cmap='gray')\n",
        "\n",
        "plt.subplot(122)\n",
        "plt.imshow(output_img, cmap='gray')"
      ],
      "metadata": {
        "id": "SHeONFLKvYs5",
        "colab": {
          "base_uri": "https://localhost:8080/",
          "height": 341
        },
        "outputId": "29e11779-c37a-447f-a00d-39626a47dca7"
      },
      "execution_count": null,
      "outputs": [
        {
          "output_type": "stream",
          "name": "stdout",
          "text": [
            "GT label: 8\n",
            "latent code z:  tensor([[ 4.3784, -2.6053]], device='cuda:0', grad_fn=<AddmmBackward0>)\n"
          ]
        },
        {
          "output_type": "execute_result",
          "data": {
            "text/plain": [
              "<matplotlib.image.AxesImage at 0x7ca79df50cd0>"
            ]
          },
          "metadata": {},
          "execution_count": 34
        },
        {
          "output_type": "display_data",
          "data": {
            "text/plain": [
              "<Figure size 640x480 with 2 Axes>"
            ],
            "image/png": "[encoded data removed]"
          },
          "metadata": {}
        }
      ]
    },
    {
      "cell_type": "markdown",
      "source": [
        "인코딩 결과와 유사한 좌표값을 디코딩에 보내도 유사한 결과가 나옴을 확인"
      ],
      "metadata": {
        "id": "JjKms2oWvxUz"
      }
    },
    {
      "cell_type": "code",
      "source": [
        "import ipywidgets as widgets\n",
        "\n",
        "u=widgets.FloatSlider(min=-10.0, max=10.0, orientation='horizontal')\n",
        "v=widgets.FloatSlider(min=-10.0, max=10.0, orientation='vertical')\n",
        "\n",
        "ui = widgets.HBox([u,v])\n",
        "\n",
        "def z_test(u, v):\n",
        "  z_test = np.array([[u,v]])\n",
        "\n",
        "  print(z_test)\n",
        "\n",
        "  z_test = torch.FloatTensor(z_test).to(device)\n",
        "  img_gen = dec(z_test)\n",
        "\n",
        "  img_gen = to_pil_image(img_gen.squeeze())\n",
        "\n",
        "  plt.imshow(img_gen, cmap='gray')\n",
        "  plt.show()\n",
        "\n",
        "out = widgets.interactive_output(z_test, {'u': u, 'v': v})\n",
        "\n",
        "display(ui, out)"
      ],
      "metadata": {
        "id": "n8aQKM4MvyCg",
        "colab": {
          "base_uri": "https://localhost:8080/",
          "height": 652,
          "referenced_widgets": [
            "38a37c17f4cd4f84ab78db284b946190",
            "cfa994e28f6c4858ae32f0d149b59ee8",
            "74481b76953c455fad74b3fd33fdf6eb",
            "0ce4f777242748838e7db369fc1357f9",
            "fbe5fabdc3e7442b9793ab599982b245",
            "d926a749a9694912877f16d5ef74f915",
            "2a252a6d083b4babaae9b14e65e937df",
            "58b58f6fb8094f189059303b3cfd1d9e",
            "179ca17aa8804974a66062ac618c12cd",
            "41bfce46e6594968b252f776af733b09"
          ]
        },
        "outputId": "6697d4ca-7baa-47f3-90f8-7127e9dba0e3"
      },
      "execution_count": null,
      "outputs": [
        {
          "output_type": "display_data",
          "data": {
            "text/plain": [
              "HBox(children=(FloatSlider(value=0.0, max=10.0, min=-10.0), FloatSlider(value=0.0, max=10.0, min=-10.0, orient…"
            ],
            "application/vnd.jupyter.widget-view+json": {
              "version_major": 2,
              "version_minor": 0,
              "model_id": "38a37c17f4cd4f84ab78db284b946190"
            }
          },
          "metadata": {}
        },
        {
          "output_type": "display_data",
          "data": {
            "text/plain": [
              "Output()"
            ],
            "application/vnd.jupyter.widget-view+json": {
              "version_major": 2,
              "version_minor": 0,
              "model_id": "179ca17aa8804974a66062ac618c12cd"
            }
          },
          "metadata": {}
        }
      ]
    },
    {
      "cell_type": "markdown",
      "source": [
        "## TODO\n",
        "1. encoder를 거쳐 나온 representation z를 GT label 별로 다른색을 주어 z의 분포를 가시화한다.\n",
        "2. z의 분포를 보고 encoder가 label 별로 discriminative한 representation을 만들어내는지 여부를 확인한다.\n",
        "3. 만일 discriminative하지 않다면, autoencoder가 discriminative한 representation z를 학습하도록 z의 차원을 바꿔가면서 실험을 진행한다.\n",
        "4. 결과에 대한 분석을 작성한다.\n",
        "\n",
        "## 인코딩 결과 가시화\n",
        "오토인코더의 encoder가 만들어 내는 representation인 z 값을 가시화 한다."
      ],
      "metadata": {
        "id": "M6YoHHcywLqT"
      }
    },
    {
      "cell_type": "code",
      "source": [
        "# MNIST 데이터의 latent code 가시화\n",
        "import matplotlib.pyplot as plt\n",
        "\n",
        "# 테스트셋의 whole batch에 대한 결과 확인을 위한 dataloader 정의\n",
        "whole_test_loader = DataLoader(dataset=test_dataset,\n",
        "                               batch_size=len(test_dataset),\n",
        "                               shuffle=False)\n",
        "whole_test_images, whole_test_labels = next(iter(whole_test_loader))\n",
        "\n",
        "whole_test_images = whole_test_images.to(device)\n",
        "whole_test_labels = whole_test_labels.to(device)\n",
        "\n",
        "## TODO: whole_train_images에 대한 인코딩 함수 enc()를 이용해 latent codes z 구하기\n",
        "# z = ...\n",
        "\n",
        "# z 배열을 레이블 조건을 이용해 슬라이싱\n",
        "z_0 = z[whole_test_labels==0]\n",
        "z_1 = z[whole_test_labels==1]\n",
        "z_2 = z[whole_test_labels==2]\n",
        "z_3 = z[whole_test_labels==3]\n",
        "z_4 = z[whole_test_labels==4]\n",
        "z_5 = z[whole_test_labels==5]\n",
        "z_6 = z[whole_test_labels==6]\n",
        "z_7 = z[whole_test_labels==7]\n",
        "z_8 = z[whole_test_labels==8]\n",
        "z_9 = z[whole_test_labels==9]\n",
        "\n",
        "print(z_0.shape)\n",
        "print(z_1.shape)\n",
        "print(z_2.shape)\n",
        "print(z_3.shape)\n",
        "print(z_4.shape)\n",
        "print(z_5.shape)\n",
        "print(z_6.shape)\n",
        "print(z_7.shape)\n",
        "print(z_8.shape)\n",
        "print(z_9.shape)\n",
        "\n",
        "# TODO: 레이블 별로 다른 색을 이용해 가시화\n",
        "plt.plot(z_0[:,0].detach().cpu().numpy(), z_0[:,1].detach().cpu().numpy(), 'ro')\n",
        "plt.plot(z_1[:,0].detach().cpu().numpy(), z_1[:,1].detach().cpu().numpy(), 'go')\n",
        "plt.plot(z_2[:,0].detach().cpu().numpy(), z_2[:,1].detach().cpu().numpy(), 'bo')\n",
        "# plt.plot(z_3[:,0], z_3[:,1], 'bo')\n",
        "# plt.plot(z_4[:,0], z_4[:,1], 'bo')\n",
        "# plt.plot(z_5[:,0], z_5[:,1], 'bo')\n",
        "# plt.plot(z_6[:,0], z_6[:,1], 'bo')\n",
        "# plt.plot(z_7[:,0], z_7[:,1], 'bo')\n",
        "# plt.plot(z_8[:,0], z_8[:,1], 'bo')\n",
        "# plt.plot(z_9[:,0], z_9[:,1], 'bo')"
      ],
      "metadata": {
        "id": "Mja-hYNdvzII"
      },
      "execution_count": null,
      "outputs": []
    },
    {
      "cell_type": "markdown",
      "source": [
        "## TODO: 디코더를 이용한 Generative Model 구성\n",
        "1. z 공간의 임의의 위치를 sampling한 후, 이를 decoder의 입력으로 주는 방식으로 generative model을 구축한다.\n",
        "2. 결과로 만들어지는 이미지는 어떤 특징을 가지고 있는지 분석한다."
      ],
      "metadata": {
        "id": "hWQmjUDpwhjg"
      }
    },
    {
      "cell_type": "code",
      "source": [
        "## TODO\n",
        "z =\n",
        "\n",
        "z = torch.FloatTensor(z).to(device)\n",
        "result = dec(z)\n",
        "\n",
        "print(z.shape)\n",
        "print(result.shape)"
      ],
      "metadata": {
        "id": "aPqh5f8TwlMj"
      },
      "execution_count": null,
      "outputs": []
    },
    {
      "cell_type": "markdown",
      "source": [
        "결과 가시화"
      ],
      "metadata": {
        "id": "rIkun0TvwjYj"
      }
    },
    {
      "cell_type": "code",
      "source": [
        "## TODO\n",
        "\n",
        "# 로딩된 MNIST 데이터 가시화\n",
        "import matplotlib.pyplot as plt\n",
        "from torchvision.transforms.functional import to_pil_image"
      ],
      "metadata": {
        "id": "1Pb9lmNlwo7W"
      },
      "execution_count": null,
      "outputs": []
    }
  ]
}